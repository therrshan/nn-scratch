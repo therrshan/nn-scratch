{
 "cells": [
  {
   "cell_type": "code",
   "execution_count": 3,
   "id": "737c968d",
   "metadata": {},
   "outputs": [],
   "source": [
    "from neurokit.layers.dense import Dense\n",
    "from neurokit.layers.activations import ReLU\n",
    "from neurokit.models.sequential import Sequential\n",
    "from neurokit.losses.mse import mse\n",
    "\n",
    "import numpy as np\n"
   ]
  },
  {
   "cell_type": "code",
   "execution_count": 4,
   "id": "f9099c84",
   "metadata": {},
   "outputs": [
    {
     "name": "stdout",
     "output_type": "stream",
     "text": [
      "Epoch 0: Loss = 0.8575\n",
      "Epoch 10: Loss = 0.8575\n",
      "Epoch 20: Loss = 0.8575\n",
      "Epoch 30: Loss = 0.8575\n",
      "Epoch 40: Loss = 0.8574\n",
      "Epoch 50: Loss = 0.8574\n",
      "Epoch 60: Loss = 0.8574\n",
      "Epoch 70: Loss = 0.8574\n",
      "Epoch 80: Loss = 0.8574\n",
      "Epoch 90: Loss = 0.8574\n"
     ]
    }
   ],
   "source": [
    "model = Sequential([\n",
    "    Dense(2, 16),\n",
    "    ReLU(),\n",
    "    Dense(16, 1)\n",
    "])\n",
    "\n",
    "# Example data\n",
    "X = np.random.randn(100, 2)\n",
    "y = np.random.randn(100, 1)\n",
    "\n",
    "model.train(X, y, loss_fn=mse, epochs=100, lr=0.01)"
   ]
  },
  {
   "cell_type": "code",
   "execution_count": null,
   "id": "5bf3cbba",
   "metadata": {},
   "outputs": [],
   "source": []
  }
 ],
 "metadata": {
  "kernelspec": {
   "display_name": "nn-scratch",
   "language": "python",
   "name": "python3"
  },
  "language_info": {
   "codemirror_mode": {
    "name": "ipython",
    "version": 3
   },
   "file_extension": ".py",
   "mimetype": "text/x-python",
   "name": "python",
   "nbconvert_exporter": "python",
   "pygments_lexer": "ipython3",
   "version": "3.11.12"
  }
 },
 "nbformat": 4,
 "nbformat_minor": 5
}
